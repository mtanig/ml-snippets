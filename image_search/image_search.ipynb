{
 "cells": [
  {
   "cell_type": "markdown",
   "id": "d4b840f1",
   "metadata": {},
   "source": [
    "## Download trained model"
   ]
  },
  {
   "cell_type": "code",
   "execution_count": 6,
   "id": "a0e337d4",
   "metadata": {
    "scrolled": true
   },
   "outputs": [
    {
     "name": "stdout",
     "output_type": "stream",
     "text": [
      "--2022-01-29 14:02:50--  https://tfhub.dev/google/imagenet/mobilenet_v3_large_100_224/feature_vector/5?tf-hub-format=compressed\n",
      "tfhub.dev (tfhub.dev) をDNSに問いあわせています... 216.58.197.238\n",
      "tfhub.dev (tfhub.dev)|216.58.197.238|:443 に接続しています... 接続しました。\n",
      "HTTP による接続要求を送信しました、応答を待っています... 302 Found\n",
      "場所: https://storage.googleapis.com/tfhub-modules/google/imagenet/mobilenet_v3_large_100_224/feature_vector/5.tar.gz [続く]\n",
      "--2022-01-29 14:02:51--  https://storage.googleapis.com/tfhub-modules/google/imagenet/mobilenet_v3_large_100_224/feature_vector/5.tar.gz\n",
      "storage.googleapis.com (storage.googleapis.com) をDNSに問いあわせています... 172.217.175.48, 172.217.175.112, 142.250.196.144, ...\n",
      "storage.googleapis.com (storage.googleapis.com)|172.217.175.48|:443 に接続しています... 接続しました。\n",
      "HTTP による接続要求を送信しました、応答を待っています... 200 OK\n",
      "長さ: 15840597 (15M) [application/octet-stream]\n",
      "`mobilenet_v3_large_100_224_feature_vector_v5.tar.gz' に保存中\n",
      "\n",
      "mobilenet_v3_large_ 100%[===================>]  15.11M  12.8MB/s 時間 1.2s       \n",
      "\n",
      "2022-01-29 14:02:53 (12.8 MB/s) - `mobilenet_v3_large_100_224_feature_vector_v5.tar.gz' へ保存完了 [15840597/15840597]\n",
      "\n"
     ]
    }
   ],
   "source": [
    "!wget --output-document mobilenet_v3_large_100_224_feature_vector_v5.tar.gz \"https://tfhub.dev/google/imagenet/mobilenet_v3_large_100_224/feature_vector/5?tf-hub-format=compressed\""
   ]
  },
  {
   "cell_type": "code",
   "execution_count": 7,
   "id": "aead7f95",
   "metadata": {},
   "outputs": [
    {
     "name": "stdout",
     "output_type": "stream",
     "text": [
      "b4181065be4258956e249ea56e27cbeb8306372b  mobilenet_v3_large_100_224_feature_vector_v5.tar.gz\r\n"
     ]
    }
   ],
   "source": [
    "!sha1sum mobilenet_v3_large_100_224_feature_vector_v5.tar.gz"
   ]
  },
  {
   "cell_type": "code",
   "execution_count": 8,
   "id": "759391ea",
   "metadata": {},
   "outputs": [
    {
     "name": "stdout",
     "output_type": "stream",
     "text": [
      "mkdir: mobilenet_v3_large_100_224_feature_vector_v5: File exists\r\n"
     ]
    }
   ],
   "source": [
    "!mkdir mobilenet_v3_large_100_224_feature_vector_v5"
   ]
  },
  {
   "cell_type": "code",
   "execution_count": 9,
   "id": "b433ba0a",
   "metadata": {},
   "outputs": [
    {
     "name": "stdout",
     "output_type": "stream",
     "text": [
      "x ./\n",
      "x ./variables/\n",
      "x ./variables/variables.index\n",
      "x ./variables/variables.data-00000-of-00001\n",
      "x ./saved_model.pb\n",
      "x ./assets/\n"
     ]
    }
   ],
   "source": [
    "!tar xvf mobilenet_v3_large_100_224_feature_vector_v5.tar.gz -C mobilenet_v3_large_100_224_feature_vector_v5"
   ]
  },
  {
   "cell_type": "markdown",
   "id": "fd525dd4",
   "metadata": {},
   "source": [
    "## Convert to ONNX format"
   ]
  },
  {
   "cell_type": "code",
   "execution_count": 1,
   "id": "caf53039",
   "metadata": {},
   "outputs": [
    {
     "name": "stdout",
     "output_type": "stream",
     "text": [
      "Collecting tensorflow\n",
      "  Downloading tensorflow-2.7.0-cp39-cp39-macosx_10_11_x86_64.whl (207.1 MB)\n",
      "\u001b[K     |████████████████████████████████| 207.1 MB 3.9 MB/s eta 0:00:013     |███████████████████████████████▌| 203.8 MB 3.7 MB/s eta 0:00:01\n",
      "\u001b[?25hCollecting tensorboard~=2.6\n",
      "  Using cached tensorboard-2.8.0-py3-none-any.whl (5.8 MB)\n",
      "Requirement already satisfied: grpcio<2.0,>=1.24.3 in /Users/masatani/.pyenv/versions/3.9.5/lib/python3.9/site-packages (from tensorflow) (1.42.0)\n",
      "Requirement already satisfied: h5py>=2.9.0 in /Users/masatani/.pyenv/versions/3.9.5/lib/python3.9/site-packages (from tensorflow) (3.6.0)\n",
      "Collecting astunparse>=1.6.0\n",
      "  Using cached astunparse-1.6.3-py2.py3-none-any.whl (12 kB)\n",
      "Collecting opt-einsum>=2.3.2\n",
      "  Using cached opt_einsum-3.3.0-py3-none-any.whl (65 kB)\n",
      "Collecting flatbuffers<3.0,>=1.12\n",
      "  Using cached flatbuffers-2.0-py2.py3-none-any.whl (26 kB)\n",
      "Collecting wrapt>=1.11.0\n",
      "  Downloading wrapt-1.13.3-cp39-cp39-macosx_10_9_x86_64.whl (33 kB)\n",
      "Requirement already satisfied: numpy>=1.14.5 in /Users/masatani/.pyenv/versions/3.9.5/lib/python3.9/site-packages (from tensorflow) (1.21.4)\n",
      "Requirement already satisfied: six>=1.12.0 in /Users/masatani/.pyenv/versions/3.9.5/lib/python3.9/site-packages (from tensorflow) (1.16.0)\n",
      "Collecting keras<2.8,>=2.7.0rc0\n",
      "  Using cached keras-2.7.0-py2.py3-none-any.whl (1.3 MB)\n",
      "Collecting google-pasta>=0.1.1\n",
      "  Using cached google_pasta-0.2.0-py3-none-any.whl (57 kB)\n",
      "Requirement already satisfied: typing-extensions>=3.6.6 in /Users/masatani/.pyenv/versions/3.9.5/lib/python3.9/site-packages (from tensorflow) (4.0.1)\n",
      "Collecting tensorflow-estimator<2.8,~=2.7.0rc0\n",
      "  Using cached tensorflow_estimator-2.7.0-py2.py3-none-any.whl (463 kB)\n",
      "Collecting termcolor>=1.1.0\n",
      "  Using cached termcolor-1.1.0.tar.gz (3.9 kB)\n",
      "Requirement already satisfied: wheel<1.0,>=0.32.0 in /Users/masatani/.pyenv/versions/3.9.5/lib/python3.9/site-packages (from tensorflow) (0.36.2)\n",
      "Collecting absl-py>=0.4.0\n",
      "  Using cached absl_py-1.0.0-py3-none-any.whl (126 kB)\n",
      "Collecting tensorflow-io-gcs-filesystem>=0.21.0\n",
      "  Downloading tensorflow_io_gcs_filesystem-0.23.1-cp39-cp39-macosx_10_14_x86_64.whl (1.6 MB)\n",
      "\u001b[K     |████████████████████████████████| 1.6 MB 4.4 MB/s eta 0:00:01\n",
      "\u001b[?25hCollecting keras-preprocessing>=1.1.1\n",
      "  Using cached Keras_Preprocessing-1.1.2-py2.py3-none-any.whl (42 kB)\n",
      "Requirement already satisfied: protobuf>=3.9.2 in /Users/masatani/.pyenv/versions/3.9.5/lib/python3.9/site-packages (from tensorflow) (3.19.1)\n",
      "Collecting gast<0.5.0,>=0.2.1\n",
      "  Using cached gast-0.4.0-py3-none-any.whl (9.8 kB)\n",
      "Collecting libclang>=9.0.1\n",
      "  Using cached libclang-13.0.0-py2.py3-none-macosx_10_9_x86_64.whl (13.0 MB)\n",
      "Collecting tensorboard-data-server<0.7.0,>=0.6.0\n",
      "  Using cached tensorboard_data_server-0.6.1-py3-none-macosx_10_9_x86_64.whl (3.5 MB)\n",
      "Collecting google-auth<3,>=1.6.3\n",
      "  Using cached google_auth-2.5.0-py2.py3-none-any.whl (157 kB)\n",
      "Collecting requests<3,>=2.21.0\n",
      "  Downloading requests-2.27.1-py2.py3-none-any.whl (63 kB)\n",
      "\u001b[K     |████████████████████████████████| 63 kB 3.0 MB/s eta 0:00:01\n",
      "\u001b[?25hRequirement already satisfied: werkzeug>=0.11.15 in /Users/masatani/.pyenv/versions/3.9.5/lib/python3.9/site-packages (from tensorboard~=2.6->tensorflow) (2.0.2)\n",
      "Collecting google-auth-oauthlib<0.5,>=0.4.1\n",
      "  Using cached google_auth_oauthlib-0.4.6-py2.py3-none-any.whl (18 kB)\n",
      "Collecting markdown>=2.6.8\n",
      "  Using cached Markdown-3.3.6-py3-none-any.whl (97 kB)\n",
      "Collecting tensorboard-plugin-wit>=1.6.0\n",
      "  Using cached tensorboard_plugin_wit-1.8.1-py3-none-any.whl (781 kB)\n",
      "Requirement already satisfied: setuptools>=41.0.0 in /Users/masatani/.pyenv/versions/3.9.5/lib/python3.9/site-packages (from tensorboard~=2.6->tensorflow) (56.0.0)\n",
      "Collecting pyasn1-modules>=0.2.1\n",
      "  Using cached pyasn1_modules-0.2.8-py2.py3-none-any.whl (155 kB)\n",
      "Collecting cachetools<6.0,>=2.0.0\n",
      "  Using cached cachetools-5.0.0-py3-none-any.whl (9.1 kB)\n",
      "Collecting rsa<5,>=3.1.4\n",
      "  Using cached rsa-4.8-py3-none-any.whl (39 kB)\n",
      "Collecting requests-oauthlib>=0.7.0\n",
      "  Using cached requests_oauthlib-1.3.0-py2.py3-none-any.whl (23 kB)\n",
      "Collecting importlib-metadata>=4.4\n",
      "  Using cached importlib_metadata-4.10.1-py3-none-any.whl (17 kB)\n",
      "Collecting zipp>=0.5\n",
      "  Downloading zipp-3.7.0-py3-none-any.whl (5.3 kB)\n",
      "Collecting pyasn1<0.5.0,>=0.4.6\n",
      "  Using cached pyasn1-0.4.8-py2.py3-none-any.whl (77 kB)\n",
      "Collecting idna<4,>=2.5\n",
      "  Using cached idna-3.3-py3-none-any.whl (61 kB)\n",
      "Collecting certifi>=2017.4.17\n",
      "  Using cached certifi-2021.10.8-py2.py3-none-any.whl (149 kB)\n",
      "Collecting charset-normalizer~=2.0.0\n",
      "  Downloading charset_normalizer-2.0.10-py3-none-any.whl (39 kB)\n",
      "Collecting urllib3<1.27,>=1.21.1\n",
      "  Downloading urllib3-1.26.8-py2.py3-none-any.whl (138 kB)\n",
      "\u001b[K     |████████████████████████████████| 138 kB 3.4 MB/s eta 0:00:01\n",
      "\u001b[?25hCollecting oauthlib>=3.0.0\n",
      "  Using cached oauthlib-3.1.1-py2.py3-none-any.whl (146 kB)\n",
      "Building wheels for collected packages: termcolor\n",
      "  Building wheel for termcolor (setup.py) ... \u001b[?25ldone\n",
      "\u001b[?25h  Created wheel for termcolor: filename=termcolor-1.1.0-py3-none-any.whl size=4829 sha256=e4280686d49d7859e1b2493c1ade021b460626fb50aa885f9516a0b78c553a86\n",
      "  Stored in directory: /Users/masatani/Library/Caches/pip/wheels/b6/0d/90/0d1bbd99855f99cb2f6c2e5ff96f8023fad8ec367695f7d72d\n",
      "Successfully built termcolor\n",
      "Installing collected packages: urllib3, pyasn1, idna, charset-normalizer, certifi, zipp, rsa, requests, pyasn1-modules, oauthlib, cachetools, requests-oauthlib, importlib-metadata, google-auth, tensorboard-plugin-wit, tensorboard-data-server, markdown, google-auth-oauthlib, absl-py, wrapt, termcolor, tensorflow-io-gcs-filesystem, tensorflow-estimator, tensorboard, opt-einsum, libclang, keras-preprocessing, keras, google-pasta, gast, flatbuffers, astunparse, tensorflow\n",
      "\u001b[33m  WARNING: The script normalizer is installed in '/Users/masatani/.local/bin' which is not on PATH.\n",
      "  Consider adding this directory to PATH or, if you prefer to suppress this warning, use --no-warn-script-location.\u001b[0m\n",
      "\u001b[33m  WARNING: The scripts pyrsa-decrypt, pyrsa-encrypt, pyrsa-keygen, pyrsa-priv2pub, pyrsa-sign and pyrsa-verify are installed in '/Users/masatani/.local/bin' which is not on PATH.\n",
      "  Consider adding this directory to PATH or, if you prefer to suppress this warning, use --no-warn-script-location.\u001b[0m\n",
      "\u001b[33m  WARNING: The script markdown_py is installed in '/Users/masatani/.local/bin' which is not on PATH.\n",
      "  Consider adding this directory to PATH or, if you prefer to suppress this warning, use --no-warn-script-location.\u001b[0m\n",
      "\u001b[33m  WARNING: The script google-oauthlib-tool is installed in '/Users/masatani/.local/bin' which is not on PATH.\n",
      "  Consider adding this directory to PATH or, if you prefer to suppress this warning, use --no-warn-script-location.\u001b[0m\n",
      "\u001b[33m  WARNING: The script tensorboard is installed in '/Users/masatani/.local/bin' which is not on PATH.\n",
      "  Consider adding this directory to PATH or, if you prefer to suppress this warning, use --no-warn-script-location.\u001b[0m\n",
      "\u001b[33m  WARNING: The scripts estimator_ckpt_converter, import_pb_to_tensorboard, saved_model_cli, tensorboard, tf_upgrade_v2, tflite_convert, toco and toco_from_protos are installed in '/Users/masatani/.local/bin' which is not on PATH.\n",
      "  Consider adding this directory to PATH or, if you prefer to suppress this warning, use --no-warn-script-location.\u001b[0m\n",
      "Successfully installed absl-py-1.0.0 astunparse-1.6.3 cachetools-5.0.0 certifi-2021.10.8 charset-normalizer-2.0.10 flatbuffers-2.0 gast-0.4.0 google-auth-2.5.0 google-auth-oauthlib-0.4.6 google-pasta-0.2.0 idna-3.3 importlib-metadata-4.10.1 keras-2.7.0 keras-preprocessing-1.1.2 libclang-13.0.0 markdown-3.3.6 oauthlib-3.1.1 opt-einsum-3.3.0 pyasn1-0.4.8 pyasn1-modules-0.2.8 requests-2.27.1 requests-oauthlib-1.3.0 rsa-4.8 tensorboard-2.8.0 tensorboard-data-server-0.6.1 tensorboard-plugin-wit-1.8.1 tensorflow-2.7.0 tensorflow-estimator-2.7.0 tensorflow-io-gcs-filesystem-0.23.1 termcolor-1.1.0 urllib3-1.26.8 wrapt-1.13.3 zipp-3.7.0\n",
      "\u001b[33mWARNING: You are using pip version 21.2.4; however, version 21.3.1 is available.\n",
      "You should consider upgrading via the '/Users/masatani/.pyenv/versions/3.9.5/bin/python3.9 -m pip install --upgrade pip' command.\u001b[0m\n"
     ]
    }
   ],
   "source": [
    "!pip install --user tensorflow"
   ]
  },
  {
   "cell_type": "code",
   "execution_count": 2,
   "id": "203ad0e0",
   "metadata": {},
   "outputs": [
    {
     "name": "stdout",
     "output_type": "stream",
     "text": [
      "Collecting onnxruntime\n",
      "  Downloading onnxruntime-1.10.0-cp39-cp39-macosx_10_14_x86_64.whl (5.4 MB)\n",
      "\u001b[K     |████████████████████████████████| 5.4 MB 3.1 MB/s eta 0:00:01\n",
      "\u001b[?25hRequirement already satisfied: flatbuffers in /Users/masatani/.local/lib/python3.9/site-packages (from onnxruntime) (2.0)\n",
      "Requirement already satisfied: protobuf in /Users/masatani/.pyenv/versions/3.9.5/lib/python3.9/site-packages (from onnxruntime) (3.19.1)\n",
      "Requirement already satisfied: numpy>=1.16.6 in /Users/masatani/.pyenv/versions/3.9.5/lib/python3.9/site-packages (from onnxruntime) (1.21.4)\n",
      "Installing collected packages: onnxruntime\n",
      "Successfully installed onnxruntime-1.10.0\n",
      "\u001b[33mWARNING: You are using pip version 21.2.4; however, version 21.3.1 is available.\n",
      "You should consider upgrading via the '/Users/masatani/.pyenv/versions/3.9.5/bin/python3.9 -m pip install --upgrade pip' command.\u001b[0m\n"
     ]
    }
   ],
   "source": [
    "!pip install onnxruntime"
   ]
  },
  {
   "cell_type": "code",
   "execution_count": 3,
   "id": "47c14598",
   "metadata": {},
   "outputs": [
    {
     "name": "stdout",
     "output_type": "stream",
     "text": [
      "Collecting tf2onnx\n",
      "  Using cached tf2onnx-1.9.3-py3-none-any.whl (435 kB)\n",
      "Collecting onnx>=1.4.1\n",
      "  Downloading onnx-1.10.2-cp39-cp39-macosx_10_12_x86_64.whl (12.1 MB)\n",
      "\u001b[K     |████████████████████████████████| 12.1 MB 9.7 MB/s eta 0:00:01\n",
      "\u001b[?25hRequirement already satisfied: six in /Users/masatani/.pyenv/versions/3.9.5/lib/python3.9/site-packages (from tf2onnx) (1.16.0)\n",
      "Requirement already satisfied: requests in /Users/masatani/.local/lib/python3.9/site-packages (from tf2onnx) (2.27.1)\n",
      "Requirement already satisfied: numpy>=1.14.1 in /Users/masatani/.pyenv/versions/3.9.5/lib/python3.9/site-packages (from tf2onnx) (1.21.4)\n",
      "Collecting flatbuffers~=1.12\n",
      "  Using cached flatbuffers-1.12-py2.py3-none-any.whl (15 kB)\n",
      "Requirement already satisfied: protobuf in /Users/masatani/.pyenv/versions/3.9.5/lib/python3.9/site-packages (from onnx>=1.4.1->tf2onnx) (3.19.1)\n",
      "Requirement already satisfied: typing-extensions>=3.6.2.1 in /Users/masatani/.pyenv/versions/3.9.5/lib/python3.9/site-packages (from onnx>=1.4.1->tf2onnx) (4.0.1)\n",
      "Requirement already satisfied: certifi>=2017.4.17 in /Users/masatani/.local/lib/python3.9/site-packages (from requests->tf2onnx) (2021.10.8)\n",
      "Requirement already satisfied: charset-normalizer~=2.0.0 in /Users/masatani/.local/lib/python3.9/site-packages (from requests->tf2onnx) (2.0.10)\n",
      "Requirement already satisfied: idna<4,>=2.5 in /Users/masatani/.local/lib/python3.9/site-packages (from requests->tf2onnx) (3.3)\n",
      "Requirement already satisfied: urllib3<1.27,>=1.21.1 in /Users/masatani/.local/lib/python3.9/site-packages (from requests->tf2onnx) (1.26.8)\n",
      "Installing collected packages: onnx, flatbuffers, tf2onnx\n",
      "  Attempting uninstall: flatbuffers\n",
      "    Found existing installation: flatbuffers 2.0\n",
      "    Uninstalling flatbuffers-2.0:\n",
      "      Successfully uninstalled flatbuffers-2.0\n",
      "Successfully installed flatbuffers-1.12 onnx-1.10.2 tf2onnx-1.9.3\n",
      "\u001b[33mWARNING: You are using pip version 21.2.4; however, version 21.3.1 is available.\n",
      "You should consider upgrading via the '/Users/masatani/.pyenv/versions/3.9.5/bin/python3.9 -m pip install --upgrade pip' command.\u001b[0m\n",
      "Note: you may need to restart the kernel to use updated packages.\n"
     ]
    }
   ],
   "source": [
    "pip install -U tf2onnx"
   ]
  },
  {
   "cell_type": "code",
   "execution_count": 4,
   "id": "7b85f829",
   "metadata": {},
   "outputs": [
    {
     "name": "stdout",
     "output_type": "stream",
     "text": [
      "/Users/masatani/.pyenv/versions/3.9.5/lib/python3.9/runpy.py:127: RuntimeWarning: 'tf2onnx.convert' found in sys.modules after import of package 'tf2onnx', but prior to execution of 'tf2onnx.convert'; this may result in unpredictable behaviour\n",
      "  warn(RuntimeWarning(msg))\n",
      "2022-01-29 14:16:17,997 - WARNING - '--tag' not specified for saved_model. Using --tag serve\n",
      "2022-01-29 14:16:19,909 - INFO - Signatures found in model: [serving_default].\n",
      "2022-01-29 14:16:19,909 - WARNING - '--signature_def' not specified, using first signature: serving_default\n",
      "2022-01-29 14:16:19,912 - INFO - Output names: ['feature_vector']\n",
      "WARNING:tensorflow:From /Users/masatani/.pyenv/versions/3.9.5/lib/python3.9/site-packages/tf2onnx/tf_loader.py:706: extract_sub_graph (from tensorflow.python.framework.graph_util_impl) is deprecated and will be removed in a future version.\n",
      "Instructions for updating:\n",
      "Use `tf.compat.v1.graph_util.extract_sub_graph`\n",
      "2022-01-29 14:16:22,332 - WARNING - From /Users/masatani/.pyenv/versions/3.9.5/lib/python3.9/site-packages/tf2onnx/tf_loader.py:706: extract_sub_graph (from tensorflow.python.framework.graph_util_impl) is deprecated and will be removed in a future version.\n",
      "Instructions for updating:\n",
      "Use `tf.compat.v1.graph_util.extract_sub_graph`\n",
      "2022-01-29 14:16:23,314 - INFO - Using tensorflow=2.7.0, onnx=1.10.2, tf2onnx=1.9.3/1190aa\n",
      "2022-01-29 14:16:23,314 - INFO - Using opset <onnx, 9>\n",
      "2022-01-29 14:16:25,507 - INFO - Computed 0 values for constant folding\n",
      "2022-01-29 14:16:27,199 - INFO - Optimizing ONNX model\n",
      "2022-01-29 14:16:30,739 - INFO - After optimization: BatchNormalization -41 (46->5), Const -201 (347->146), GlobalAveragePool +8 (0->8), Identity -83 (83->0), ReduceMean -8 (8->0), Reshape -15 (15->0), Transpose -236 (237->1)\n",
      "2022-01-29 14:16:30,803 - INFO - \n",
      "2022-01-29 14:16:30,803 - INFO - Successfully converted TensorFlow model mobilenet_v3_large_100_224_feature_vector_v5 to ONNX\n",
      "2022-01-29 14:16:30,803 - INFO - Model inputs: ['inputs']\n",
      "2022-01-29 14:16:30,803 - INFO - Model outputs: ['feature_vector']\n",
      "2022-01-29 14:16:30,803 - INFO - ONNX model is saved at mobilenet_v3_large_100_224_feature_vector_v5.onnx\n"
     ]
    }
   ],
   "source": [
    "!python -m tf2onnx.convert --saved-model mobilenet_v3_large_100_224_feature_vector_v5 --output mobilenet_v3_large_100_224_feature_vector_v5.onnx"
   ]
  },
  {
   "cell_type": "markdown",
   "id": "2f791294",
   "metadata": {},
   "source": [
    "## Infer the model for test"
   ]
  },
  {
   "cell_type": "code",
   "execution_count": 28,
   "id": "2fff6bc5",
   "metadata": {},
   "outputs": [],
   "source": [
    "import numpy as np\n",
    "import onnxruntime\n",
    "import os"
   ]
  },
  {
   "cell_type": "code",
   "execution_count": 29,
   "id": "f21f5a7e",
   "metadata": {},
   "outputs": [
    {
     "data": {
      "text/plain": [
       "'CPU'"
      ]
     },
     "execution_count": 29,
     "metadata": {},
     "output_type": "execute_result"
    }
   ],
   "source": [
    "onnxruntime.get_device()"
   ]
  },
  {
   "cell_type": "code",
   "execution_count": 30,
   "id": "d26bc665",
   "metadata": {},
   "outputs": [],
   "source": [
    "model_path = os.path.abspath(\"./mobilenet_v3_large_100_224_feature_vector_v5.onnx\")"
   ]
  },
  {
   "cell_type": "code",
   "execution_count": 31,
   "id": "5ee01171",
   "metadata": {},
   "outputs": [],
   "source": [
    "session = onnxruntime.InferenceSession(model_path)"
   ]
  },
  {
   "cell_type": "code",
   "execution_count": 32,
   "id": "f533361e",
   "metadata": {},
   "outputs": [
    {
     "data": {
      "text/plain": [
       "'inputs'"
      ]
     },
     "execution_count": 32,
     "metadata": {},
     "output_type": "execute_result"
    }
   ],
   "source": [
    "session.get_inputs()[0].name"
   ]
  },
  {
   "cell_type": "code",
   "execution_count": 33,
   "id": "b28a5a26",
   "metadata": {},
   "outputs": [
    {
     "data": {
      "text/plain": [
       "[array([[-0.19617277, -0.32971096,  0.01838616, ...,  1.1617084 ,\n",
       "         -0.36636534, -0.33906442]], dtype=float32)]"
      ]
     },
     "execution_count": 33,
     "metadata": {},
     "output_type": "execute_result"
    }
   ],
   "source": [
    "session.run([\"feature_vector\"], {\"inputs\": np.zeros((1, 224, 224, 3), dtype=np.float32)})"
   ]
  },
  {
   "cell_type": "code",
   "execution_count": 34,
   "id": "b789cb65",
   "metadata": {},
   "outputs": [
    {
     "data": {
      "text/plain": [
       "[array([[ 0.4693332 ,  0.20881288,  0.30621248, ..., -0.36716673,\n",
       "         -0.31486627, -0.33280432]], dtype=float32)]"
      ]
     },
     "execution_count": 34,
     "metadata": {},
     "output_type": "execute_result"
    }
   ],
   "source": [
    "session.run([\"feature_vector\"], {\"inputs\": np.ones((1, 224, 224, 3), dtype=np.float32)})"
   ]
  },
  {
   "cell_type": "markdown",
   "id": "c93f3a25",
   "metadata": {},
   "source": [
    "## Download and output images"
   ]
  },
  {
   "cell_type": "code",
   "execution_count": 23,
   "id": "b64584f1",
   "metadata": {},
   "outputs": [
    {
     "name": "stdout",
     "output_type": "stream",
     "text": [
      "--2022-01-29 14:36:22--  https://www.cs.toronto.edu/~kriz/cifar-10-python.tar.gz\n",
      "www.cs.toronto.edu (www.cs.toronto.edu) をDNSに問いあわせています... 128.100.3.30\n",
      "www.cs.toronto.edu (www.cs.toronto.edu)|128.100.3.30|:443 に接続しています... 接続しました。\n",
      "HTTP による接続要求を送信しました、応答を待っています... 200 OK\n",
      "長さ: 170498071 (163M) [application/x-gzip]\n",
      "`cifar-10-python.tar.gz' に保存中\n",
      "\n",
      "cifar-10-python.tar 100%[===================>] 162.60M  8.60MB/s 時間 27s        \n",
      "\n",
      "2022-01-29 14:36:50 (6.03 MB/s) - `cifar-10-python.tar.gz' へ保存完了 [170498071/170498071]\n",
      "\n"
     ]
    }
   ],
   "source": [
    "!wget https://www.cs.toronto.edu/~kriz/cifar-10-python.tar.gz"
   ]
  },
  {
   "cell_type": "code",
   "execution_count": 24,
   "id": "c42f21a7",
   "metadata": {},
   "outputs": [],
   "source": [
    "!mkdir cifar-10"
   ]
  },
  {
   "cell_type": "code",
   "execution_count": 25,
   "id": "e26355ab",
   "metadata": {},
   "outputs": [
    {
     "name": "stdout",
     "output_type": "stream",
     "text": [
      "x cifar-10-batches-py/\n",
      "x cifar-10-batches-py/data_batch_4\n",
      "x cifar-10-batches-py/readme.html\n",
      "x cifar-10-batches-py/test_batch\n",
      "x cifar-10-batches-py/data_batch_3\n",
      "x cifar-10-batches-py/batches.meta\n",
      "x cifar-10-batches-py/data_batch_2\n",
      "x cifar-10-batches-py/data_batch_5\n",
      "x cifar-10-batches-py/data_batch_1\n"
     ]
    }
   ],
   "source": [
    "!tar xvf cifar-10-python.tar.gz -C cifar-10"
   ]
  },
  {
   "cell_type": "code",
   "execution_count": 26,
   "id": "3acf43d3",
   "metadata": {},
   "outputs": [],
   "source": [
    "!mkdir cifar-10/insert cifar-10/search"
   ]
  },
  {
   "cell_type": "code",
   "execution_count": 91,
   "id": "274bb5da",
   "metadata": {},
   "outputs": [
    {
     "name": "stdout",
     "output_type": "stream",
     "text": [
      "batches.meta data_batch_2 data_batch_4 readme.html\r\n",
      "data_batch_1 data_batch_3 data_batch_5 test_batch\r\n"
     ]
    }
   ],
   "source": [
    "!ls cifar-10/cifar-10-batches-py"
   ]
  },
  {
   "cell_type": "code",
   "execution_count": 9,
   "id": "b410a6e2",
   "metadata": {},
   "outputs": [],
   "source": [
    "import pickle\n",
    "from PIL import Image\n",
    "import os"
   ]
  },
  {
   "cell_type": "code",
   "execution_count": 10,
   "id": "43f6c847",
   "metadata": {},
   "outputs": [],
   "source": [
    "base_path = os.path.abspath('cifar-10')"
   ]
  },
  {
   "cell_type": "code",
   "execution_count": 14,
   "id": "7b6d685d",
   "metadata": {},
   "outputs": [],
   "source": [
    "def data_to_image(data_path, img_path):\n",
    "    with open(data_path, 'rb') as fo:\n",
    "        dict = pickle.load(fo, encoding='bytes')\n",
    "        for i in range(len(dict[b'labels'])):\n",
    "            out_path = img_path + '/' + dict[b'filenames'][i].decode()\n",
    "            data = dict[b'data'][i].reshape(3, 32, 32).transpose(1, 2, 0) # shape=(32, 32, 3)\n",
    "            img = Image.fromarray(data, 'RGB')\n",
    "            img.save(out_path)"
   ]
  },
  {
   "cell_type": "code",
   "execution_count": 15,
   "id": "0705790e",
   "metadata": {},
   "outputs": [],
   "source": [
    "insert_img_path = base_path + '/insert'\n",
    "insert_file_list = ['data_batch_1', 'data_batch_2', 'data_batch_3',  'data_batch_4',  'data_batch_5']\n",
    "for file in insert_file_list:\n",
    "    insert_data_path = base_path + '/cifar-10-batches-py/' + file\n",
    "    data_to_image(insert_data_path, insert_img_path)"
   ]
  },
  {
   "cell_type": "code",
   "execution_count": 16,
   "id": "42245cba",
   "metadata": {},
   "outputs": [],
   "source": [
    "search_img_path = base_path + '/search'\n",
    "search_data_path = base_path + '/cifar-10-batches-py/' + 'test_batch'\n",
    "data_to_image(search_data_path, search_img_path)"
   ]
  },
  {
   "cell_type": "markdown",
   "id": "de964e11",
   "metadata": {},
   "source": [
    "## Extract feature vectors from images for inserting"
   ]
  },
  {
   "cell_type": "code",
   "execution_count": 40,
   "id": "c2cc9490",
   "metadata": {},
   "outputs": [],
   "source": [
    "import glob\n",
    "import numpy as np"
   ]
  },
  {
   "cell_type": "code",
   "execution_count": 26,
   "id": "b7cde72e",
   "metadata": {},
   "outputs": [],
   "source": [
    "insert_img_paths = glob.glob(insert_img_path + '/*.png')"
   ]
  },
  {
   "cell_type": "code",
   "execution_count": 35,
   "id": "36d3e232",
   "metadata": {},
   "outputs": [],
   "source": [
    "onnx_session = onnxruntime.InferenceSession(model_path)"
   ]
  },
  {
   "cell_type": "code",
   "execution_count": 61,
   "id": "991397ad",
   "metadata": {},
   "outputs": [],
   "source": [
    "insert_features_path = insert_img_path + '/features.npy'\n",
    "features = np.array([])\n",
    "for image_path in insert_img_paths:\n",
    "    img = Image.open(image_path)\n",
    "    img = img.convert(\"RGB\")\n",
    "    img = img.resize((224, 224))\n",
    "    img = np.array(img, dtype=np.float32)\n",
    "    img = img / 255\n",
    "\n",
    "    feature_vector = onnx_session.run([\"feature_vector\"], {\"inputs\": np.expand_dims(img, 0)})[0][0]\n",
    "    feature = {\n",
    "        'path': image_path,\n",
    "        'vector': feature_vector\n",
    "    }\n",
    "    features = np.append(features, np.array(feature))\n",
    "\n",
    "np.save(insert_features_path, features)"
   ]
  },
  {
   "cell_type": "markdown",
   "id": "69495256",
   "metadata": {},
   "source": [
    "## Search similar images by query image"
   ]
  },
  {
   "cell_type": "code",
   "execution_count": 258,
   "id": "49f91e33",
   "metadata": {},
   "outputs": [],
   "source": [
    "import numpy as np\n",
    "import glob\n",
    "import onnxruntime\n",
    "from PIL import Image\n",
    "import matplotlib.pyplot as plt"
   ]
  },
  {
   "cell_type": "code",
   "execution_count": 259,
   "id": "72dc57f0",
   "metadata": {},
   "outputs": [],
   "source": [
    "%matplotlib inline "
   ]
  },
  {
   "cell_type": "markdown",
   "id": "ba90b25e",
   "metadata": {},
   "source": [
    "### Query image 1"
   ]
  },
  {
   "cell_type": "code",
   "execution_count": 261,
   "id": "8126724c",
   "metadata": {},
   "outputs": [],
   "source": [
    "search_img_paths = glob.glob(search_img_path + '/*.png')\n",
    "test_img_path = search_img_paths[0]"
   ]
  },
  {
   "cell_type": "code",
   "execution_count": 262,
   "id": "3a206051",
   "metadata": {},
   "outputs": [],
   "source": [
    "def open_image(path):\n",
    "    img = Image.open(test_img_path)\n",
    "    img = img.convert(\"RGB\")\n",
    "    img = img.resize((224, 224))\n",
    "    img = np.array(img, dtype=np.float32)\n",
    "    img = img / 255\n",
    "\n",
    "    return img"
   ]
  },
  {
   "cell_type": "code",
   "execution_count": 263,
   "id": "5dccbf8a",
   "metadata": {},
   "outputs": [],
   "source": [
    "img = open_image(test_img_path)"
   ]
  },
  {
   "cell_type": "code",
   "execution_count": 264,
   "id": "c4bda73f",
   "metadata": {},
   "outputs": [
    {
     "data": {
      "text/plain": [
       "<matplotlib.image.AxesImage at 0x12af5beb0>"
      ]
     },
     "execution_count": 264,
     "metadata": {},
     "output_type": "execute_result"
    },
    {
     "data": {
      "image/png": "[encoded data removed]",
      "text/plain": [
       "<Figure size 432x288 with 1 Axes>"
      ]
     },
     "metadata": {
      "needs_background": "light"
     },
     "output_type": "display_data"
    }
   ],
   "source": [
    "plt.imshow(mpimg.imread(test_img_path),cmap=\"gray\")"
   ]
  },
  {
   "cell_type": "code",
   "execution_count": 265,
   "id": "e2ee98e1",
   "metadata": {},
   "outputs": [],
   "source": [
    "onnx_session = onnxruntime.InferenceSession(model_path)"
   ]
  },
  {
   "cell_type": "code",
   "execution_count": 266,
   "id": "af52e704",
   "metadata": {},
   "outputs": [],
   "source": [
    "query_feature = onnx_session.run(\n",
    "    [\"feature_vector\"], {\"inputs\": np.expand_dims(img, 0)}\n",
    ")[0][0]"
   ]
  },
  {
   "cell_type": "markdown",
   "id": "1bdbf856",
   "metadata": {},
   "source": [
    "### Similar images of the result"
   ]
  },
  {
   "cell_type": "code",
   "execution_count": 267,
   "id": "48f7e371",
   "metadata": {},
   "outputs": [],
   "source": [
    "import matplotlib.pyplot as plt\n",
    "import matplotlib.image as mpimg"
   ]
  },
  {
   "cell_type": "code",
   "execution_count": 268,
   "id": "a9f43735",
   "metadata": {},
   "outputs": [],
   "source": [
    "n_search = 10"
   ]
  },
  {
   "cell_type": "code",
   "execution_count": 269,
   "id": "f8373447",
   "metadata": {},
   "outputs": [],
   "source": [
    "insert_features = np.load(insert_features_path, allow_pickle=True)"
   ]
  },
  {
   "cell_type": "code",
   "execution_count": 270,
   "id": "0e6dce2e",
   "metadata": {},
   "outputs": [],
   "source": [
    "query_features = np.tile(query_feature, (len(features), 1))"
   ]
  },
  {
   "cell_type": "code",
   "execution_count": 271,
   "id": "a1dc09cf",
   "metadata": {},
   "outputs": [],
   "source": [
    "distances = np.linalg.norm(query_features - list(map(lambda x: x['vector'], insert_features)), axis=1)"
   ]
  },
  {
   "cell_type": "code",
   "execution_count": 272,
   "id": "0353bb70",
   "metadata": {},
   "outputs": [],
   "source": [
    "distance_indexes = np.argsort(distances)[:n_search]"
   ]
  },
  {
   "cell_type": "code",
   "execution_count": 273,
   "id": "1e075bb7",
   "metadata": {},
   "outputs": [],
   "source": [
    "results = []\n",
    "for idx in distance_indexes:\n",
    "    distance = distances[idx]\n",
    "    result_img_path = insert_features[idx]['path']\n",
    "    results.append({\n",
    "        'path': result_img_path,\n",
    "        'distance': distance,\n",
    "    })"
   ]
  },
  {
   "cell_type": "code",
   "execution_count": 274,
   "id": "d1624582",
   "metadata": {},
   "outputs": [
    {
     "name": "stdout",
     "output_type": "stream",
     "text": [
      "top: 1, distance: 18.420196533203125\n"
     ]
    },
    {
     "data": {
      "image/png": "[encoded data removed]",
      "text/plain": [
       "<Figure size 432x288 with 1 Axes>"
      ]
     },
     "metadata": {
      "needs_background": "light"
     },
     "output_type": "display_data"
    },
    {
     "name": "stdout",
     "output_type": "stream",
     "text": [
      "top: 2, distance: 18.532560348510742\n"
     ]
    },
    {
     "data": {
      "image/png": "[encoded data removed]",
      "text/plain": [
       "<Figure size 432x288 with 1 Axes>"
      ]
     },
     "metadata": {
      "needs_background": "light"
     },
     "output_type": "display_data"
    },
    {
     "name": "stdout",
     "output_type": "stream",
     "text": [
      "top: 3, distance: 18.603309631347656\n"
     ]
    },
    {
     "data": {
      "image/png": "[encoded data removed]",
      "text/plain": [
       "<Figure size 432x288 with 1 Axes>"
      ]
     },
     "metadata": {
      "needs_background": "light"
     },
     "output_type": "display_data"
    },
    {
     "name": "stdout",
     "output_type": "stream",
     "text": [
      "top: 4, distance: 18.671796798706055\n"
     ]
    },
    {
     "data": {
      "image/png": "[encoded data removed]",
      "text/plain": [
       "<Figure size 432x288 with 1 Axes>"
      ]
     },
     "metadata": {
      "needs_background": "light"
     },
     "output_type": "display_data"
    },
    {
     "name": "stdout",
     "output_type": "stream",
     "text": [
      "top: 5, distance: 18.964900970458984\n"
     ]
    },
    {
     "data": {
      "image/png": "[encoded data removed]",
      "text/plain": [
       "<Figure size 432x288 with 1 Axes>"
      ]
     },
     "metadata": {
      "needs_background": "light"
     },
     "output_type": "display_data"
    },
    {
     "name": "stdout",
     "output_type": "stream",
     "text": [
      "top: 6, distance: 18.995800018310547\n"
     ]
    },
    {
     "data": {
      "image/png": "[encoded data removed]",
      "text/plain": [
       "<Figure size 432x288 with 1 Axes>"
      ]
     },
     "metadata": {
      "needs_background": "light"
     },
     "output_type": "display_data"
    },
    {
     "name": "stdout",
     "output_type": "stream",
     "text": [
      "top: 7, distance: 19.044078826904297\n"
     ]
    },
    {
     "data": {
      "image/png": "[encoded data removed]",
      "text/plain": [
       "<Figure size 432x288 with 1 Axes>"
      ]
     },
     "metadata": {
      "needs_background": "light"
     },
     "output_type": "display_data"
    },
    {
     "name": "stdout",
     "output_type": "stream",
     "text": [
      "top: 8, distance: 19.21797752380371\n"
     ]
    },
    {
     "data": {
      "image/png": "[encoded data removed]",
      "text/plain": [
       "<Figure size 432x288 with 1 Axes>"
      ]
     },
     "metadata": {
      "needs_background": "light"
     },
     "output_type": "display_data"
    },
    {
     "name": "stdout",
     "output_type": "stream",
     "text": [
      "top: 9, distance: 19.294734954833984\n"
     ]
    },
    {
     "data": {
      "image/png": "[encoded data removed]",
      "text/plain": [
       "<Figure size 432x288 with 1 Axes>"
      ]
     },
     "metadata": {
      "needs_background": "light"
     },
     "output_type": "display_data"
    },
    {
     "name": "stdout",
     "output_type": "stream",
     "text": [
      "top: 10, distance: 19.32024383544922\n"
     ]
    },
    {
     "data": {
      "image/png": "[encoded data removed]",
      "text/plain": [
       "<Figure size 432x288 with 1 Axes>"
      ]
     },
     "metadata": {
      "needs_background": "light"
     },
     "output_type": "display_data"
    }
   ],
   "source": [
    "from matplotlib import pyplot\n",
    "for i, result in enumerate(results):\n",
    "    print(\"top: {0}, distance: {1}\".format(i + 1, result['distance']))\n",
    "    image = Image.open(result['path'])\n",
    "    pyplot.imshow(image)\n",
    "    pyplot.show()"
   ]
  },
  {
   "cell_type": "markdown",
   "id": "a4860594",
   "metadata": {},
   "source": [
    "### Query image 2"
   ]
  },
  {
   "cell_type": "code",
   "execution_count": 284,
   "id": "e4e03276",
   "metadata": {},
   "outputs": [
    {
     "data": {
      "text/plain": [
       "<matplotlib.image.AxesImage at 0x12adac400>"
      ]
     },
     "execution_count": 284,
     "metadata": {},
     "output_type": "execute_result"
    },
    {
     "data": {
      "image/png": "[encoded data removed]",
      "text/plain": [
       "<Figure size 432x288 with 1 Axes>"
      ]
     },
     "metadata": {
      "needs_background": "light"
     },
     "output_type": "display_data"
    }
   ],
   "source": [
    "test_img_path = search_img_paths[100]\n",
    "img = open_image(test_img_path)\n",
    "plt.imshow(mpimg.imread(test_img_path),cmap=\"gray\")"
   ]
  },
  {
   "cell_type": "code",
   "execution_count": 285,
   "id": "a8e04909",
   "metadata": {},
   "outputs": [],
   "source": [
    "onnx_session = onnxruntime.InferenceSession(model_path)\n",
    "query_feature = onnx_session.run(\n",
    "    [\"feature_vector\"], {\"inputs\": np.expand_dims(img, 0)}\n",
    ")[0][0]"
   ]
  },
  {
   "cell_type": "code",
   "execution_count": 286,
   "id": "89cb5a5c",
   "metadata": {},
   "outputs": [],
   "source": [
    "n_search = 10"
   ]
  },
  {
   "cell_type": "code",
   "execution_count": 287,
   "id": "e9440836",
   "metadata": {},
   "outputs": [],
   "source": [
    "insert_features = np.load(insert_features_path, allow_pickle=True)\n",
    "query_features = np.tile(query_feature, (len(features), 1))"
   ]
  },
  {
   "cell_type": "code",
   "execution_count": 288,
   "id": "f562890a",
   "metadata": {},
   "outputs": [],
   "source": [
    "distances = np.linalg.norm(query_features - list(map(lambda x: x['vector'], insert_features)), axis=1)\n",
    "distance_indexes = np.argsort(distances)[:n_search]"
   ]
  },
  {
   "cell_type": "code",
   "execution_count": 289,
   "id": "cb1aa547",
   "metadata": {},
   "outputs": [],
   "source": [
    "results = []\n",
    "for idx in distance_indexes:\n",
    "    distance = distances[idx]\n",
    "    result_img_path = insert_features[idx]['path']\n",
    "    results.append({\n",
    "        'path': result_img_path,\n",
    "        'distance': distance,\n",
    "    })"
   ]
  },
  {
   "cell_type": "code",
   "execution_count": 290,
   "id": "45ad4268",
   "metadata": {},
   "outputs": [
    {
     "name": "stdout",
     "output_type": "stream",
     "text": [
      "top: 1, distance: 17.038734436035156\n"
     ]
    },
    {
     "data": {
      "image/png": "[encoded data removed]",
      "text/plain": [
       "<Figure size 432x288 with 1 Axes>"
      ]
     },
     "metadata": {
      "needs_background": "light"
     },
     "output_type": "display_data"
    },
    {
     "name": "stdout",
     "output_type": "stream",
     "text": [
      "top: 2, distance: 17.46709632873535\n"
     ]
    },
    {
     "data": {
      "image/png": "[encoded data removed]",
      "text/plain": [
       "<Figure size 432x288 with 1 Axes>"
      ]
     },
     "metadata": {
      "needs_background": "light"
     },
     "output_type": "display_data"
    },
    {
     "name": "stdout",
     "output_type": "stream",
     "text": [
      "top: 3, distance: 18.30060577392578\n"
     ]
    },
    {
     "data": {
      "image/png": "[encoded data removed]",
      "text/plain": [
       "<Figure size 432x288 with 1 Axes>"
      ]
     },
     "metadata": {
      "needs_background": "light"
     },
     "output_type": "display_data"
    },
    {
     "name": "stdout",
     "output_type": "stream",
     "text": [
      "top: 4, distance: 18.326507568359375\n"
     ]
    },
    {
     "data": {
      "image/png": "[encoded data removed]",
      "text/plain": [
       "<Figure size 432x288 with 1 Axes>"
      ]
     },
     "metadata": {
      "needs_background": "light"
     },
     "output_type": "display_data"
    },
    {
     "name": "stdout",
     "output_type": "stream",
     "text": [
      "top: 5, distance: 18.546405792236328\n"
     ]
    },
    {
     "data": {
      "image/png": "[encoded data removed]",
      "text/plain": [
       "<Figure size 432x288 with 1 Axes>"
      ]
     },
     "metadata": {
      "needs_background": "light"
     },
     "output_type": "display_data"
    },
    {
     "name": "stdout",
     "output_type": "stream",
     "text": [
      "top: 6, distance: 18.736148834228516\n"
     ]
    },
    {
     "data": {
      "image/png": "[encoded data removed]",
      "text/plain": [
       "<Figure size 432x288 with 1 Axes>"
      ]
     },
     "metadata": {
      "needs_background": "light"
     },
     "output_type": "display_data"
    },
    {
     "name": "stdout",
     "output_type": "stream",
     "text": [
      "top: 7, distance: 18.823379516601562\n"
     ]
    },
    {
     "data": {
      "image/png": "[encoded data removed]",
      "text/plain": [
       "<Figure size 432x288 with 1 Axes>"
      ]
     },
     "metadata": {
      "needs_background": "light"
     },
     "output_type": "display_data"
    },
    {
     "name": "stdout",
     "output_type": "stream",
     "text": [
      "top: 8, distance: 18.870641708374023\n"
     ]
    },
    {
     "data": {
      "image/png": "[encoded data removed]",
      "text/plain": [
       "<Figure size 432x288 with 1 Axes>"
      ]
     },
     "metadata": {
      "needs_background": "light"
     },
     "output_type": "display_data"
    },
    {
     "name": "stdout",
     "output_type": "stream",
     "text": [
      "top: 9, distance: 19.044538497924805\n"
     ]
    },
    {
     "data": {
      "image/png": "[encoded data removed]",
      "text/plain": [
       "<Figure size 432x288 with 1 Axes>"
      ]
     },
     "metadata": {
      "needs_background": "light"
     },
     "output_type": "display_data"
    },
    {
     "name": "stdout",
     "output_type": "stream",
     "text": [
      "top: 10, distance: 19.27358627319336\n"
     ]
    },
    {
     "data": {
      "image/png": "[encoded data removed]",
      "text/plain": [
       "<Figure size 432x288 with 1 Axes>"
      ]
     },
     "metadata": {
      "needs_background": "light"
     },
     "output_type": "display_data"
    }
   ],
   "source": [
    "for i, result in enumerate(results):\n",
    "    print(\"top: {0}, distance: {1}\".format(i + 1, result['distance']))\n",
    "    image = Image.open(result['path'])\n",
    "    pyplot.imshow(image)\n",
    "    pyplot.show()"
   ]
  },
  {
   "cell_type": "code",
   "execution_count": null,
   "id": "fdc37872",
   "metadata": {},
   "outputs": [],
   "source": []
  }
 ],
 "metadata": {
  "kernelspec": {
   "display_name": "Python 3 (ipykernel)",
   "language": "python",
   "name": "python3"
  },
  "language_info": {
   "codemirror_mode": {
    "name": "ipython",
    "version": 3
   },
   "file_extension": ".py",
   "mimetype": "text/x-python",
   "name": "python",
   "nbconvert_exporter": "python",
   "pygments_lexer": "ipython3",
   "version": "3.9.5"
  }
 },
 "nbformat": 4,
 "nbformat_minor": 5
}
